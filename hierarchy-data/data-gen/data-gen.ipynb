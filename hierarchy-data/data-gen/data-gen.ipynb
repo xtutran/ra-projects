{
 "cells": [
  {
   "cell_type": "code",
   "execution_count": 1,
   "metadata": {
    "collapsed": true
   },
   "outputs": [],
   "source": [
    "import pandas as pd"
   ]
  },
  {
   "cell_type": "code",
   "execution_count": 2,
   "metadata": {
    "collapsed": true
   },
   "outputs": [],
   "source": [
    "df = pd.read_excel('INSDC to Gaz.xlsx')"
   ]
  },
  {
   "cell_type": "code",
   "execution_count": 3,
   "metadata": {},
   "outputs": [
    {
     "data": {
      "text/html": [
       "<div>\n",
       "<style>\n",
       "    .dataframe thead tr:only-child th {\n",
       "        text-align: right;\n",
       "    }\n",
       "\n",
       "    .dataframe thead th {\n",
       "        text-align: left;\n",
       "    }\n",
       "\n",
       "    .dataframe tbody tr th {\n",
       "        vertical-align: top;\n",
       "    }\n",
       "</style>\n",
       "<table border=\"1\" class=\"dataframe\">\n",
       "  <thead>\n",
       "    <tr style=\"text-align: right;\">\n",
       "      <th></th>\n",
       "      <th>raw_item (INSDC)</th>\n",
       "      <th>synonym</th>\n",
       "      <th>Gaz_Term</th>\n",
       "      <th>Gaz_Term_ID</th>\n",
       "      <th>match_status</th>\n",
       "    </tr>\n",
       "  </thead>\n",
       "  <tbody>\n",
       "    <tr>\n",
       "      <th>0</th>\n",
       "      <td>INSDC:country:serbia</td>\n",
       "      <td>NaN</td>\n",
       "      <td>serbia</td>\n",
       "      <td>GAZ:00002957</td>\n",
       "      <td>Match</td>\n",
       "    </tr>\n",
       "    <tr>\n",
       "      <th>1</th>\n",
       "      <td>INSDC:country:serbia and montenegro</td>\n",
       "      <td>NaN</td>\n",
       "      <td>[Former] Federal Republic of Yugoslavia</td>\n",
       "      <td>GAZ_00052664</td>\n",
       "      <td>Not Match</td>\n",
       "    </tr>\n",
       "    <tr>\n",
       "      <th>2</th>\n",
       "      <td>INSDC:country:ussr</td>\n",
       "      <td>NaN</td>\n",
       "      <td>[Former] Union of Soviet Socialist Republics</td>\n",
       "      <td>GAZ:00039835</td>\n",
       "      <td>Manually Matched</td>\n",
       "    </tr>\n",
       "    <tr>\n",
       "      <th>3</th>\n",
       "      <td>INSDC:country:afghanistan</td>\n",
       "      <td>NaN</td>\n",
       "      <td>afghanistan</td>\n",
       "      <td>GAZ:00006882</td>\n",
       "      <td>Match</td>\n",
       "    </tr>\n",
       "    <tr>\n",
       "      <th>4</th>\n",
       "      <td>INSDC:country:albania</td>\n",
       "      <td>NaN</td>\n",
       "      <td>albania</td>\n",
       "      <td>GAZ:00002953</td>\n",
       "      <td>Match</td>\n",
       "    </tr>\n",
       "  </tbody>\n",
       "</table>\n",
       "</div>"
      ],
      "text/plain": [
       "                      raw_item (INSDC) synonym  \\\n",
       "0                 INSDC:country:serbia     NaN   \n",
       "1  INSDC:country:serbia and montenegro     NaN   \n",
       "2                   INSDC:country:ussr     NaN   \n",
       "3            INSDC:country:afghanistan     NaN   \n",
       "4                INSDC:country:albania     NaN   \n",
       "\n",
       "                                      Gaz_Term    Gaz_Term_ID  \\\n",
       "0                                        serbia  GAZ:00002957   \n",
       "1       [Former] Federal Republic of Yugoslavia  GAZ_00052664   \n",
       "2  [Former] Union of Soviet Socialist Republics  GAZ:00039835   \n",
       "3                                   afghanistan  GAZ:00006882   \n",
       "4                                       albania  GAZ:00002953   \n",
       "\n",
       "       match_status  \n",
       "0             Match  \n",
       "1         Not Match  \n",
       "2  Manually Matched  \n",
       "3             Match  \n",
       "4             Match  "
      ]
     },
     "execution_count": 3,
     "metadata": {},
     "output_type": "execute_result"
    }
   ],
   "source": [
    "df.head()"
   ]
  },
  {
   "cell_type": "code",
   "execution_count": 4,
   "metadata": {
    "collapsed": true
   },
   "outputs": [],
   "source": [
    "template = u'''\n",
    "    <!-- http://purl.obolibrary.org/obo/{id} -->\n",
    "    <owl:Class rdf:about=\"http://purl.obolibrary.org/obo/{id}\">\n",
    "        <oboInOwl:hasDbXref rdf:datatype=\"http://www.w3.org/2001/XMLSchema#string\">{raw_item}</oboInOwl:hasDbXref>\n",
    "        <rdfs:label xml:lang=\"en\">{content}</rdfs:label>\n",
    "    </owl:Class>\n",
    "'''"
   ]
  },
  {
   "cell_type": "code",
   "execution_count": 5,
   "metadata": {
    "collapsed": true
   },
   "outputs": [],
   "source": [
    "def gen(row):\n",
    "    return template.format(id=row['Gaz_Term_ID'], raw_item=row['raw_item (INSDC)'], content=row['Gaz_Term'])"
   ]
  },
  {
   "cell_type": "code",
   "execution_count": 6,
   "metadata": {},
   "outputs": [],
   "source": [
    "df.columns = map(lambda x: x.strip(), df.columns)"
   ]
  },
  {
   "cell_type": "code",
   "execution_count": 7,
   "metadata": {},
   "outputs": [],
   "source": [
    "chunks = df.apply(gen, axis=1)"
   ]
  },
  {
   "cell_type": "code",
   "execution_count": 8,
   "metadata": {},
   "outputs": [],
   "source": [
    "import codecs\n",
    "\n",
    "with codecs.open('output.txt', 'w', 'utf-8') as f:\n",
    "    for chunk in chunks:\n",
    "        f.write(chunk)"
   ]
  },
  {
   "cell_type": "code",
   "execution_count": null,
   "metadata": {
    "collapsed": true
   },
   "outputs": [],
   "source": []
  }
 ],
 "metadata": {
  "kernelspec": {
   "display_name": "Python 2",
   "language": "python",
   "name": "python2"
  },
  "language_info": {
   "codemirror_mode": {
    "name": "ipython",
    "version": 2
   },
   "file_extension": ".py",
   "mimetype": "text/x-python",
   "name": "python",
   "nbconvert_exporter": "python",
   "pygments_lexer": "ipython2",
   "version": "2.7.13"
  }
 },
 "nbformat": 4,
 "nbformat_minor": 2
}
