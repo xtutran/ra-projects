{
 "cells": [
  {
   "cell_type": "code",
   "execution_count": 1,
   "metadata": {
    "collapsed": true
   },
   "outputs": [],
   "source": [
    "import happybase\n",
    "import pandas as pd\n",
    "import numpy as np\n",
    "from bs4 import BeautifulSoup\n",
    "import urllib"
   ]
  },
  {
   "cell_type": "code",
   "execution_count": 1,
   "metadata": {
    "collapsed": true
   },
   "outputs": [],
   "source": [
    "from starbase import Connection\n"
   ]
  },
  {
   "cell_type": "code",
   "execution_count": 146,
   "metadata": {
    "collapsed": true
   },
   "outputs": [],
   "source": [
    "cf = 'gsmgarena'"
   ]
  },
  {
   "cell_type": "code",
   "execution_count": 2,
   "metadata": {
    "collapsed": true
   },
   "outputs": [],
   "source": [
    "base_url = 'https://www.gsmarena.com/acer_iconia_talk_s-8306.php'"
   ]
  },
  {
   "cell_type": "code",
   "execution_count": 117,
   "metadata": {
    "collapsed": true
   },
   "outputs": [],
   "source": [
    "r = urllib.urlopen(base_url).read()\n",
    "soup = BeautifulSoup(r, 'html.parser')"
   ]
  },
  {
   "cell_type": "code",
   "execution_count": 118,
   "metadata": {
    "collapsed": true
   },
   "outputs": [],
   "source": [
    "body = soup.find(id=\"body\")"
   ]
  },
  {
   "cell_type": "code",
   "execution_count": 119,
   "metadata": {
    "collapsed": true
   },
   "outputs": [],
   "source": [
    "specs = soup.find('div', id='specs-list')"
   ]
  },
  {
   "cell_type": "code",
   "execution_count": 120,
   "metadata": {
    "collapsed": true
   },
   "outputs": [],
   "source": [
    "tables = {}\n",
    "i = 1\n",
    "for table in specs.find_all('table'):\n",
    "    feature = table.find('th')\n",
    "    if not feature:\n",
    "        continue\n",
    "    \n",
    "    if table.find('tr', class_='tr-hover'):\n",
    "        del_rows = []\n",
    "        for f in table.find_all('td', class_='ttl'):\n",
    "            if f.text == u'\\xa0':\n",
    "                curr_row = f.parent\n",
    "                prev_row = curr_row.find_previous_sibling()\n",
    "                while True:\n",
    "                    prev_row_key = prev_row.find('td', class_='ttl')\n",
    "                    prev_row_value = prev_row.find('td', class_='nfo')\n",
    "                    if prev_row_key.text == u'\\xa0':\n",
    "                        prev_row = prev_row_key.parent.find_previous_sibling()\n",
    "                    else:\n",
    "                        prev_row_value.insert(1, '^^^')\n",
    "                        prev_row_value.insert(2, f.find_next_sibling().text)\n",
    "                        break\n",
    "                del_rows.append(curr_row)\n",
    "        \n",
    "        [del_row.decompose() for del_row in del_rows]\n",
    "    \n",
    "    feature_key = feature.text\n",
    "    feature.decompose()\n",
    "    if feature_key in tables:\n",
    "        feature_key = '{0}_{1}'.format(feature_key, i)\n",
    "        i += 1\n",
    "    \n",
    "    tables[feature_key] = table"
   ]
  },
  {
   "cell_type": "code",
   "execution_count": null,
   "metadata": {
    "collapsed": true
   },
   "outputs": [],
   "source": []
  },
  {
   "cell_type": "code",
   "execution_count": 145,
   "metadata": {
    "collapsed": true
   },
   "outputs": [],
   "source": [
    "table.put(b'row-key', {b'gsmgarena:{}'.format('1'): b'value1', b'gsmgarena:col2': b'value2'})"
   ]
  },
  {
   "cell_type": "code",
   "execution_count": 132,
   "metadata": {},
   "outputs": [
    {
     "data": {
      "text/plain": [
       "'cf:dd'"
      ]
     },
     "execution_count": 132,
     "metadata": {},
     "output_type": "execute_result"
    }
   ],
   "source": [
    "b'cf:{}'.format('dd')"
   ]
  },
  {
   "cell_type": "code",
   "execution_count": 125,
   "metadata": {
    "collapsed": true
   },
   "outputs": [],
   "source": [
    "d = pd.read_html(tables['Network'].prettify())[0]"
   ]
  },
  {
   "cell_type": "code",
   "execution_count": 12,
   "metadata": {},
   "outputs": [],
   "source": [
    "import happybase\n",
    "\n",
    "connection = happybase.Connection('192.168.56.101')"
   ]
  },
  {
   "cell_type": "code",
   "execution_count": 13,
   "metadata": {
    "collapsed": true
   },
   "outputs": [],
   "source": [
    "connection.open()"
   ]
  },
  {
   "cell_type": "code",
   "execution_count": 14,
   "metadata": {},
   "outputs": [
    {
     "data": {
      "text/plain": [
       "['phone_specs']"
      ]
     },
     "execution_count": 14,
     "metadata": {},
     "output_type": "execute_result"
    }
   ],
   "source": [
    "connection.tables()"
   ]
  },
  {
   "cell_type": "code",
   "execution_count": 159,
   "metadata": {
    "collapsed": true
   },
   "outputs": [],
   "source": [
    "table = connection.table('phone_specs')"
   ]
  },
  {
   "cell_type": "code",
   "execution_count": 8,
   "metadata": {},
   "outputs": [],
   "source": [
    "connection.close()"
   ]
  },
  {
   "cell_type": "code",
   "execution_count": 162,
   "metadata": {
    "collapsed": true
   },
   "outputs": [],
   "source": [
    "import re"
   ]
  },
  {
   "cell_type": "code",
   "execution_count": 167,
   "metadata": {
    "collapsed": true
   },
   "outputs": [],
   "source": [
    "def normalize(text):\n",
    "    strip = re.sub(r'[^A-Za-z0-9\\s]+', '', text.strip())\n",
    "    return sub(r\"[\\s]+\", \"_\", strip)"
   ]
  },
  {
   "cell_type": "code",
   "execution_count": 160,
   "metadata": {},
   "outputs": [
    {
     "name": "stdout",
     "output_type": "stream",
     "text": [
      "{'gsmgarena:Dimensions': '191.7 x 101 x 9.4 mm (7.55 x 3.98 x 0.37 in)', 'gsmgarena:SIM': 'Dual SIM (Micro-SIM/Nano-SIM)', 'gsmgarena:Weight': '260 g (9.17 oz)'}\n",
      "ACER.Body\n",
      "{'gsmgarena:Speed': 'HSPA 42.2/11.5 Mbps, LTE Cat4 150/50 Mbps', 'gsmgarena:2G_bands': 'GSM 850 / 900 / 1800 / 1900 - SIM 1 & SIM 2', 'gsmgarena:4G_bands': 'LTE band 1(2100), 3(1800), 7(2600), 8(900), 20(800)  ^^^  LTE band 3(1800), 7(2600), 8(900), 28(700)', 'gsmgarena:GPRS': 'Yes', 'gsmgarena:3G_bands': 'HSDPA 850 / 1900 / 2100', 'gsmgarena:Technology': 'GSM / HSPA / LTE', 'gsmgarena:EDGE': 'Yes'}\n",
      "ACER.Network\n",
      "{'gsmgarena:Announced': '2016, August', 'gsmgarena:Status': 'Available. Released 2016, October'}\n",
      "ACER.Launch\n",
      "{'gsmgarena:Chipset': 'Mediatek MT8735', 'gsmgarena:CPU': 'Quad-core 1.3 GHz Cortex-A53', 'gsmgarena:OS': 'Android 6.0 (Marshmallow)', 'gsmgarena:GPU': 'Mali-T720MP2'}\n",
      "ACER.Platform\n",
      "{'gsmgarena:Card_slot': 'microSD, up to 128 GB (dedicated slot)', 'gsmgarena:Internal': '16/32 GB, 2 GB RAM'}\n",
      "ACER.Memory\n",
      "{'gsmgarena:Multitouch': 'Yes', 'gsmgarena:Type': 'IPS LCD capacitive touchscreen, 16M colors', 'gsmgarena:Size': '7.0 inches, 135.1 cm  2  (~69.8% screen-to-body ratio)', 'gsmgarena:Resolution': '720 x 1280 pixels, 16:9 ratio (~210 ppi density)'}\n",
      "ACER.Display\n"
     ]
    }
   ],
   "source": [
    "with table.batch(transaction=True) as b:\n",
    "    for feature, data_html in tables.iteritems():\n",
    "        data = pd.read_html(data_html.prettify())[0]\n",
    "\n",
    "        data_row = {}\n",
    "        for index, row in data.iterrows():\n",
    "            key = b'{cf}:{key}'.format(cf=cf, key=normalize(row[0]))\n",
    "            value = b'{value}'.format(value=row[1])\n",
    "            data_row[key] = value\n",
    "        rowkey = b'{name}.{feature}'.format(name='ACER', feature=normalize(feature))\n",
    "        b.put(rowkey, data_row)\n",
    "    #data = pd.Series(data.value.values, index=conf.key).to_dict()"
   ]
  },
  {
   "cell_type": "code",
   "execution_count": null,
   "metadata": {
    "collapsed": true
   },
   "outputs": [],
   "source": []
  }
 ],
 "metadata": {
  "kernelspec": {
   "display_name": "Python 2",
   "language": "python",
   "name": "python2"
  },
  "language_info": {
   "codemirror_mode": {
    "name": "ipython",
    "version": 2
   },
   "file_extension": ".py",
   "mimetype": "text/x-python",
   "name": "python",
   "nbconvert_exporter": "python",
   "pygments_lexer": "ipython2",
   "version": "2.7.13"
  }
 },
 "nbformat": 4,
 "nbformat_minor": 2
}
