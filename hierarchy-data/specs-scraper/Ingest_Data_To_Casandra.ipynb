{
 "cells": [
  {
   "cell_type": "code",
   "execution_count": 101,
   "metadata": {
    "collapsed": true
   },
   "outputs": [],
   "source": [
    "import datetime\n",
    "import json\n",
    "import uuid\n",
    "import xml.etree.ElementTree as ET\n",
    "from collections import OrderedDict\n",
    "import os\n",
    "\n",
    "import pandas as pd\n",
    "import numpy as np\n",
    "import argparse\n",
    "import xmltodict\n",
    "from cassandra.cluster import Cluster"
   ]
  },
  {
   "cell_type": "code",
   "execution_count": 39,
   "metadata": {
    "collapsed": true
   },
   "outputs": [],
   "source": [
    "def unix_time(dt):\n",
    "    epoch = datetime.datetime.utcfromtimestamp(0)\n",
    "    delta = dt - epoch\n",
    "    return delta.total_seconds()\n",
    "\n",
    "\n",
    "def unix_time_millis(dt):\n",
    "    return int(unix_time(dt) * 1000.0)\n",
    "\n",
    "\n",
    "def generate_stmt(session, table, columns):\n",
    "    col_exp = ', '.join(columns)\n",
    "    val_exp = ', '.join(['?' for _ in range(len(columns))])\n",
    "    stmt = \"\"\"INSERT INTO {table} ({columns}) VALUES({values})\"\"\".format(table=table, columns=col_exp, values=val_exp)\n",
    "    return session.prepare(stmt)"
   ]
  },
  {
   "cell_type": "code",
   "execution_count": 68,
   "metadata": {},
   "outputs": [],
   "source": [
    "def parse_meta_data(raw_meta_data):\n",
    "    tree = ET.parse(raw_meta_data)  # element tree\n",
    "    root = tree.getroot()\n",
    "    meta_data = OrderedDict()\n",
    "    mess_cols = []\n",
    "    json_data = []\n",
    "    for i, child in enumerate(root):\n",
    "        tag = child.tag\n",
    "        if tag == 'KOPF' or tag == 'ZEIT':\n",
    "            for subchild in child:\n",
    "                value = subchild.text\n",
    "                if subchild.tag in ['ANFANG', 'ENDE']:\n",
    "                    value = unix_time_millis(datetime.datetime.strptime(value, '%Y-%m-%d %H:%M:%S'))\n",
    "                meta_data[subchild.tag] = value\n",
    "        elif tag == 'DATEN':\n",
    "            for subchild in child:\n",
    "                if subchild.tag == 'SPALTE':\n",
    "                    col = subchild.text\n",
    "                    index = subchild.attrib.get('messstelle', '0')\n",
    "                    mess_cols.append('.'.join([col, index]))\n",
    "        else:\n",
    "            json_data.append(xmltodict.parse(ET.tostring(child, encoding='utf-8', method='xml')))\n",
    "    meta_data['json'] = json.dumps(json_data, ensure_ascii=False, separators=(';', ':')).replace(',', '.').replace(';', ',')\n",
    "    return meta_data, mess_cols"
   ]
  },
  {
   "cell_type": "code",
   "execution_count": 69,
   "metadata": {},
   "outputs": [],
   "source": [
    "meta, mess_cols = parse_meta_data('data/Maschine 77 (1045670479)/main.xml')"
   ]
  },
  {
   "cell_type": "code",
   "execution_count": 70,
   "metadata": {},
   "outputs": [
    {
     "data": {
      "text/plain": [
       "['LAENGE.1',\n",
       " 'DRAHT1_V.1',\n",
       " 'DURCH_MITTEL.1',\n",
       " 'OVAL.1',\n",
       " 'DURCH_MITTEL.2',\n",
       " 'OVAL.2',\n",
       " 'SPALT_Y.1',\n",
       " 'SPALT_Y.2',\n",
       " 'DRAHT1_T.1',\n",
       " 'ZIEHST1_T.2',\n",
       " 'ZIEHST1_F.3',\n",
       " 'ABSPUL1_F.4',\n",
       " 'STATUS_BIT.0']"
      ]
     },
     "execution_count": 70,
     "metadata": {},
     "output_type": "execute_result"
    }
   ],
   "source": [
    "mess_cols"
   ]
  },
  {
   "cell_type": "code",
   "execution_count": 71,
   "metadata": {
    "collapsed": true
   },
   "outputs": [],
   "source": [
    "data = pd.read_csv('data/Maschine 77 (1045670479)/mess.txt', sep='\\t', header=0, names=mess_cols)"
   ]
  },
  {
   "cell_type": "code",
   "execution_count": 72,
   "metadata": {},
   "outputs": [
    {
     "data": {
      "text/html": [
       "<div>\n",
       "<style>\n",
       "    .dataframe thead tr:only-child th {\n",
       "        text-align: right;\n",
       "    }\n",
       "\n",
       "    .dataframe thead th {\n",
       "        text-align: left;\n",
       "    }\n",
       "\n",
       "    .dataframe tbody tr th {\n",
       "        vertical-align: top;\n",
       "    }\n",
       "</style>\n",
       "<table border=\"1\" class=\"dataframe\">\n",
       "  <thead>\n",
       "    <tr style=\"text-align: right;\">\n",
       "      <th></th>\n",
       "      <th>LAENGE.1</th>\n",
       "      <th>DRAHT1_V.1</th>\n",
       "      <th>DURCH_MITTEL.1</th>\n",
       "      <th>OVAL.1</th>\n",
       "      <th>DURCH_MITTEL.2</th>\n",
       "      <th>OVAL.2</th>\n",
       "      <th>SPALT_Y.1</th>\n",
       "      <th>SPALT_Y.2</th>\n",
       "      <th>DRAHT1_T.1</th>\n",
       "      <th>ZIEHST1_T.2</th>\n",
       "      <th>ZIEHST1_F.3</th>\n",
       "      <th>ABSPUL1_F.4</th>\n",
       "      <th>STATUS_BIT.0</th>\n",
       "    </tr>\n",
       "  </thead>\n",
       "  <tbody>\n",
       "    <tr>\n",
       "      <th>0</th>\n",
       "      <td>0,0</td>\n",
       "      <td>4,64</td>\n",
       "      <td>-999,00000</td>\n",
       "      <td>-999,00</td>\n",
       "      <td>-999,00000</td>\n",
       "      <td>-999,00</td>\n",
       "      <td>-999;-999;-999;-999;-999;-999;-999;-999;-999;-999</td>\n",
       "      <td>-999;-999;-999;-999;-999;-999;-999;-999;-999;-999</td>\n",
       "      <td>-999,00</td>\n",
       "      <td>-999,00</td>\n",
       "      <td>-999,00</td>\n",
       "      <td>-999,00</td>\n",
       "      <td>0006</td>\n",
       "    </tr>\n",
       "    <tr>\n",
       "      <th>1</th>\n",
       "      <td>0,1</td>\n",
       "      <td>5,08</td>\n",
       "      <td>0,57362</td>\n",
       "      <td>3,90</td>\n",
       "      <td>-999,00000</td>\n",
       "      <td>-999,00</td>\n",
       "      <td>-999;-999;-999;-999;-999;-999;-999;-999;-999;-999</td>\n",
       "      <td>-999;-999;-999;-999;-999;-999;-999;-999;-999;-999</td>\n",
       "      <td>-999,00</td>\n",
       "      <td>-999,00</td>\n",
       "      <td>-999,00</td>\n",
       "      <td>-999,00</td>\n",
       "      <td>0006</td>\n",
       "    </tr>\n",
       "    <tr>\n",
       "      <th>2</th>\n",
       "      <td>0,2</td>\n",
       "      <td>5,08</td>\n",
       "      <td>0,57497</td>\n",
       "      <td>1,61</td>\n",
       "      <td>-999,00000</td>\n",
       "      <td>-999,00</td>\n",
       "      <td>-999;-999;-999;-999;-999;-999;-999;-999;-999;-999</td>\n",
       "      <td>-999;-999;-999;-999;-999;-999;-999;-999;-999;-999</td>\n",
       "      <td>-999,00</td>\n",
       "      <td>-999,00</td>\n",
       "      <td>-999,00</td>\n",
       "      <td>-999,00</td>\n",
       "      <td>0006</td>\n",
       "    </tr>\n",
       "    <tr>\n",
       "      <th>3</th>\n",
       "      <td>0,3</td>\n",
       "      <td>2,59</td>\n",
       "      <td>0,57875</td>\n",
       "      <td>1,32</td>\n",
       "      <td>-999,00000</td>\n",
       "      <td>-999,00</td>\n",
       "      <td>-999;-999;-999;-999;-999;-999;-999;-999;6406;-140</td>\n",
       "      <td>-999;-999;-999;-999;-999;-999;-999;-999;-999;-999</td>\n",
       "      <td>-999,00</td>\n",
       "      <td>-999,00</td>\n",
       "      <td>-999,00</td>\n",
       "      <td>-999,00</td>\n",
       "      <td>0006</td>\n",
       "    </tr>\n",
       "    <tr>\n",
       "      <th>4</th>\n",
       "      <td>0,4</td>\n",
       "      <td>5,08</td>\n",
       "      <td>0,58014</td>\n",
       "      <td>1,46</td>\n",
       "      <td>-999,00000</td>\n",
       "      <td>-999,00</td>\n",
       "      <td>-142;-135;-132;-121;-126;-122;-118;-115;-114;-111</td>\n",
       "      <td>-999;-999;-999;-999;-999;-999;-999;-999;-999;-999</td>\n",
       "      <td>-999,00</td>\n",
       "      <td>-999,00</td>\n",
       "      <td>-999,00</td>\n",
       "      <td>-999,00</td>\n",
       "      <td>0006</td>\n",
       "    </tr>\n",
       "  </tbody>\n",
       "</table>\n",
       "</div>"
      ],
      "text/plain": [
       "  LAENGE.1 DRAHT1_V.1 DURCH_MITTEL.1   OVAL.1 DURCH_MITTEL.2   OVAL.2  \\\n",
       "0      0,0       4,64     -999,00000  -999,00     -999,00000  -999,00   \n",
       "1      0,1       5,08        0,57362     3,90     -999,00000  -999,00   \n",
       "2      0,2       5,08        0,57497     1,61     -999,00000  -999,00   \n",
       "3      0,3       2,59        0,57875     1,32     -999,00000  -999,00   \n",
       "4      0,4       5,08        0,58014     1,46     -999,00000  -999,00   \n",
       "\n",
       "                                           SPALT_Y.1  \\\n",
       "0  -999;-999;-999;-999;-999;-999;-999;-999;-999;-999   \n",
       "1  -999;-999;-999;-999;-999;-999;-999;-999;-999;-999   \n",
       "2  -999;-999;-999;-999;-999;-999;-999;-999;-999;-999   \n",
       "3  -999;-999;-999;-999;-999;-999;-999;-999;6406;-140   \n",
       "4  -142;-135;-132;-121;-126;-122;-118;-115;-114;-111   \n",
       "\n",
       "                                           SPALT_Y.2 DRAHT1_T.1 ZIEHST1_T.2  \\\n",
       "0  -999;-999;-999;-999;-999;-999;-999;-999;-999;-999    -999,00     -999,00   \n",
       "1  -999;-999;-999;-999;-999;-999;-999;-999;-999;-999    -999,00     -999,00   \n",
       "2  -999;-999;-999;-999;-999;-999;-999;-999;-999;-999    -999,00     -999,00   \n",
       "3  -999;-999;-999;-999;-999;-999;-999;-999;-999;-999    -999,00     -999,00   \n",
       "4  -999;-999;-999;-999;-999;-999;-999;-999;-999;-999    -999,00     -999,00   \n",
       "\n",
       "  ZIEHST1_F.3 ABSPUL1_F.4 STATUS_BIT.0  \n",
       "0     -999,00     -999,00         0006  \n",
       "1     -999,00     -999,00         0006  \n",
       "2     -999,00     -999,00         0006  \n",
       "3     -999,00     -999,00         0006  \n",
       "4     -999,00     -999,00         0006  "
      ]
     },
     "execution_count": 72,
     "metadata": {},
     "output_type": "execute_result"
    }
   ],
   "source": [
    "data.head()"
   ]
  },
  {
   "cell_type": "code",
   "execution_count": 73,
   "metadata": {},
   "outputs": [
    {
     "data": {
      "text/plain": [
       "(11448, 13)"
      ]
     },
     "execution_count": 73,
     "metadata": {},
     "output_type": "execute_result"
    }
   ],
   "source": [
    "data.shape"
   ]
  },
  {
   "cell_type": "code",
   "execution_count": 78,
   "metadata": {
    "collapsed": true
   },
   "outputs": [],
   "source": [
    "data = data.rename(columns={'LAENGE.1': 'LAENGE'})"
   ]
  },
  {
   "cell_type": "code",
   "execution_count": 80,
   "metadata": {},
   "outputs": [],
   "source": [
    "df = data.melt(id_vars=['LAENGE'], var_name='VARIABLE', value_name='VAL')"
   ]
  },
  {
   "cell_type": "code",
   "execution_count": 81,
   "metadata": {},
   "outputs": [
    {
     "data": {
      "text/html": [
       "<div>\n",
       "<style>\n",
       "    .dataframe thead tr:only-child th {\n",
       "        text-align: right;\n",
       "    }\n",
       "\n",
       "    .dataframe thead th {\n",
       "        text-align: left;\n",
       "    }\n",
       "\n",
       "    .dataframe tbody tr th {\n",
       "        vertical-align: top;\n",
       "    }\n",
       "</style>\n",
       "<table border=\"1\" class=\"dataframe\">\n",
       "  <thead>\n",
       "    <tr style=\"text-align: right;\">\n",
       "      <th></th>\n",
       "      <th>LAENGE</th>\n",
       "      <th>VARIABLE</th>\n",
       "      <th>VAL</th>\n",
       "    </tr>\n",
       "  </thead>\n",
       "  <tbody>\n",
       "    <tr>\n",
       "      <th>57240</th>\n",
       "      <td>0,0</td>\n",
       "      <td>SPALT_Y.1</td>\n",
       "      <td>-999;-999;-999;-999;-999;-999;-999;-999;-999;-999</td>\n",
       "    </tr>\n",
       "    <tr>\n",
       "      <th>57241</th>\n",
       "      <td>0,1</td>\n",
       "      <td>SPALT_Y.1</td>\n",
       "      <td>-999;-999;-999;-999;-999;-999;-999;-999;-999;-999</td>\n",
       "    </tr>\n",
       "    <tr>\n",
       "      <th>57242</th>\n",
       "      <td>0,2</td>\n",
       "      <td>SPALT_Y.1</td>\n",
       "      <td>-999;-999;-999;-999;-999;-999;-999;-999;-999;-999</td>\n",
       "    </tr>\n",
       "    <tr>\n",
       "      <th>68596</th>\n",
       "      <td>1135,6</td>\n",
       "      <td>SPALT_Y.1</td>\n",
       "      <td>-999;-999;-999;-999;-999;-999;-999;-999;-999;-999</td>\n",
       "    </tr>\n",
       "    <tr>\n",
       "      <th>68597</th>\n",
       "      <td>1135,7</td>\n",
       "      <td>SPALT_Y.1</td>\n",
       "      <td>-999;-999;-999;-999;-999;-999;-999;-999;-999;-999</td>\n",
       "    </tr>\n",
       "  </tbody>\n",
       "</table>\n",
       "</div>"
      ],
      "text/plain": [
       "       LAENGE   VARIABLE                                                VAL\n",
       "57240     0,0  SPALT_Y.1  -999;-999;-999;-999;-999;-999;-999;-999;-999;-999\n",
       "57241     0,1  SPALT_Y.1  -999;-999;-999;-999;-999;-999;-999;-999;-999;-999\n",
       "57242     0,2  SPALT_Y.1  -999;-999;-999;-999;-999;-999;-999;-999;-999;-999\n",
       "68596  1135,6  SPALT_Y.1  -999;-999;-999;-999;-999;-999;-999;-999;-999;-999\n",
       "68597  1135,7  SPALT_Y.1  -999;-999;-999;-999;-999;-999;-999;-999;-999;-999"
      ]
     },
     "execution_count": 81,
     "metadata": {},
     "output_type": "execute_result"
    }
   ],
   "source": [
    "df[df.VAL == '-999;-999;-999;-999;-999;-999;-999;-999;-999;-999'].head()"
   ]
  },
  {
   "cell_type": "code",
   "execution_count": 82,
   "metadata": {},
   "outputs": [
    {
     "name": "stdout",
     "output_type": "stream",
     "text": [
      "CPU times: user 66.6 ms, sys: 2.52 ms, total: 69.1 ms\n",
      "Wall time: 67.8 ms\n",
      "CPU times: user 58.6 ms, sys: 370 µs, total: 59 ms\n",
      "Wall time: 58.9 ms\n"
     ]
    }
   ],
   "source": [
    "%time df.LAENGE = df.LAENGE.str.replace(',', '.')\n",
    "%time df.VAL = df.VAL.str.replace(',', '.')"
   ]
  },
  {
   "cell_type": "code",
   "execution_count": 83,
   "metadata": {},
   "outputs": [],
   "source": [
    "def column_to_rows(df, column, sep):\n",
    "    \n",
    "    def _duplicate(new_row, value):\n",
    "        copy = new_row.copy()\n",
    "        copy[column] = value\n",
    "        return copy\n",
    "    \n",
    "    def _cell_to_rows(row, new_rows):\n",
    "        split_row = row[column].split(sep)\n",
    "        new_row = row.to_dict()\n",
    "        new_rows += [_duplicate(new_row, value) for value in split_row]\n",
    "    new_rows = []\n",
    "    df.apply(lambda row: _cell_to_rows(row, new_rows), axis=1)\n",
    "    new_df = pd.DataFrame(new_rows)\n",
    "    return new_df"
   ]
  },
  {
   "cell_type": "code",
   "execution_count": 84,
   "metadata": {},
   "outputs": [
    {
     "name": "stdout",
     "output_type": "stream",
     "text": [
      "CPU times: user 4.47 s, sys: 106 ms, total: 4.58 s\n",
      "Wall time: 4.53 s\n"
     ]
    }
   ],
   "source": [
    "%time df2 = column_to_rows(df, 'VAL', ';')"
   ]
  },
  {
   "cell_type": "code",
   "execution_count": 85,
   "metadata": {
    "scrolled": true
   },
   "outputs": [
    {
     "data": {
      "text/html": [
       "<div>\n",
       "<style>\n",
       "    .dataframe thead tr:only-child th {\n",
       "        text-align: right;\n",
       "    }\n",
       "\n",
       "    .dataframe thead th {\n",
       "        text-align: left;\n",
       "    }\n",
       "\n",
       "    .dataframe tbody tr th {\n",
       "        vertical-align: top;\n",
       "    }\n",
       "</style>\n",
       "<table border=\"1\" class=\"dataframe\">\n",
       "  <thead>\n",
       "    <tr style=\"text-align: right;\">\n",
       "      <th></th>\n",
       "      <th>LAENGE</th>\n",
       "      <th>VAL</th>\n",
       "      <th>VARIABLE</th>\n",
       "    </tr>\n",
       "  </thead>\n",
       "  <tbody>\n",
       "    <tr>\n",
       "      <th>0</th>\n",
       "      <td>0.0</td>\n",
       "      <td>4.64</td>\n",
       "      <td>DRAHT1_V.1</td>\n",
       "    </tr>\n",
       "    <tr>\n",
       "      <th>1</th>\n",
       "      <td>0.1</td>\n",
       "      <td>5.08</td>\n",
       "      <td>DRAHT1_V.1</td>\n",
       "    </tr>\n",
       "    <tr>\n",
       "      <th>2</th>\n",
       "      <td>0.2</td>\n",
       "      <td>5.08</td>\n",
       "      <td>DRAHT1_V.1</td>\n",
       "    </tr>\n",
       "    <tr>\n",
       "      <th>3</th>\n",
       "      <td>0.3</td>\n",
       "      <td>2.59</td>\n",
       "      <td>DRAHT1_V.1</td>\n",
       "    </tr>\n",
       "    <tr>\n",
       "      <th>4</th>\n",
       "      <td>0.4</td>\n",
       "      <td>5.08</td>\n",
       "      <td>DRAHT1_V.1</td>\n",
       "    </tr>\n",
       "  </tbody>\n",
       "</table>\n",
       "</div>"
      ],
      "text/plain": [
       "  LAENGE   VAL    VARIABLE\n",
       "0    0.0  4.64  DRAHT1_V.1\n",
       "1    0.1  5.08  DRAHT1_V.1\n",
       "2    0.2  5.08  DRAHT1_V.1\n",
       "3    0.3  2.59  DRAHT1_V.1\n",
       "4    0.4  5.08  DRAHT1_V.1"
      ]
     },
     "execution_count": 85,
     "metadata": {},
     "output_type": "execute_result"
    }
   ],
   "source": [
    "df2.head()"
   ]
  },
  {
   "cell_type": "code",
   "execution_count": 86,
   "metadata": {},
   "outputs": [
    {
     "data": {
      "text/plain": [
       "LAENGE      object\n",
       "VAL         object\n",
       "VARIABLE    object\n",
       "dtype: object"
      ]
     },
     "execution_count": 86,
     "metadata": {},
     "output_type": "execute_result"
    }
   ],
   "source": [
    "df2.dtypes"
   ]
  },
  {
   "cell_type": "code",
   "execution_count": 87,
   "metadata": {},
   "outputs": [
    {
     "name": "stdout",
     "output_type": "stream",
     "text": [
      "CPU times: user 118 ms, sys: 4.85 ms, total: 122 ms\n",
      "Wall time: 121 ms\n",
      "CPU times: user 176 ms, sys: 2.44 ms, total: 179 ms\n",
      "Wall time: 179 ms\n"
     ]
    }
   ],
   "source": [
    "%time df2.LAENGE = pd.to_numeric(df2.LAENGE, errors='coerce')\n",
    "%time df2.VAL = pd.to_numeric(df2.VAL, errors='coerce')"
   ]
  },
  {
   "cell_type": "code",
   "execution_count": 88,
   "metadata": {},
   "outputs": [
    {
     "data": {
      "text/plain": [
       "LAENGE      float64\n",
       "VAL         float64\n",
       "VARIABLE     object\n",
       "dtype: object"
      ]
     },
     "execution_count": 88,
     "metadata": {},
     "output_type": "execute_result"
    }
   ],
   "source": [
    "df2.dtypes"
   ]
  },
  {
   "cell_type": "code",
   "execution_count": 89,
   "metadata": {
    "scrolled": true
   },
   "outputs": [
    {
     "data": {
      "text/plain": [
       "(343440, 3)"
      ]
     },
     "execution_count": 89,
     "metadata": {},
     "output_type": "execute_result"
    }
   ],
   "source": [
    "df2.shape"
   ]
  },
  {
   "cell_type": "code",
   "execution_count": 97,
   "metadata": {},
   "outputs": [],
   "source": [
    "split = df2.VARIABLE.str.rsplit('.')"
   ]
  },
  {
   "cell_type": "code",
   "execution_count": 102,
   "metadata": {},
   "outputs": [],
   "source": [
    "df2['VARIABLE'] = split.str.get(0)\n",
    "df2['MESSSTELLE'] = split.str.get(1).astype(np.int8)"
   ]
  },
  {
   "cell_type": "code",
   "execution_count": 103,
   "metadata": {},
   "outputs": [
    {
     "data": {
      "text/html": [
       "<div>\n",
       "<style>\n",
       "    .dataframe thead tr:only-child th {\n",
       "        text-align: right;\n",
       "    }\n",
       "\n",
       "    .dataframe thead th {\n",
       "        text-align: left;\n",
       "    }\n",
       "\n",
       "    .dataframe tbody tr th {\n",
       "        vertical-align: top;\n",
       "    }\n",
       "</style>\n",
       "<table border=\"1\" class=\"dataframe\">\n",
       "  <thead>\n",
       "    <tr style=\"text-align: right;\">\n",
       "      <th></th>\n",
       "      <th>LAENGE</th>\n",
       "      <th>VAL</th>\n",
       "      <th>VARIABLE</th>\n",
       "      <th>MESSSTELLE</th>\n",
       "    </tr>\n",
       "  </thead>\n",
       "  <tbody>\n",
       "    <tr>\n",
       "      <th>0</th>\n",
       "      <td>0.0</td>\n",
       "      <td>4.64</td>\n",
       "      <td>DRAHT1_V</td>\n",
       "      <td>1</td>\n",
       "    </tr>\n",
       "    <tr>\n",
       "      <th>1</th>\n",
       "      <td>0.1</td>\n",
       "      <td>5.08</td>\n",
       "      <td>DRAHT1_V</td>\n",
       "      <td>1</td>\n",
       "    </tr>\n",
       "    <tr>\n",
       "      <th>2</th>\n",
       "      <td>0.2</td>\n",
       "      <td>5.08</td>\n",
       "      <td>DRAHT1_V</td>\n",
       "      <td>1</td>\n",
       "    </tr>\n",
       "    <tr>\n",
       "      <th>3</th>\n",
       "      <td>0.3</td>\n",
       "      <td>2.59</td>\n",
       "      <td>DRAHT1_V</td>\n",
       "      <td>1</td>\n",
       "    </tr>\n",
       "    <tr>\n",
       "      <th>4</th>\n",
       "      <td>0.4</td>\n",
       "      <td>5.08</td>\n",
       "      <td>DRAHT1_V</td>\n",
       "      <td>1</td>\n",
       "    </tr>\n",
       "  </tbody>\n",
       "</table>\n",
       "</div>"
      ],
      "text/plain": [
       "   LAENGE   VAL  VARIABLE  MESSSTELLE\n",
       "0     0.0  4.64  DRAHT1_V           1\n",
       "1     0.1  5.08  DRAHT1_V           1\n",
       "2     0.2  5.08  DRAHT1_V           1\n",
       "3     0.3  2.59  DRAHT1_V           1\n",
       "4     0.4  5.08  DRAHT1_V           1"
      ]
     },
     "execution_count": 103,
     "metadata": {},
     "output_type": "execute_result"
    }
   ],
   "source": [
    "df2.head()"
   ]
  },
  {
   "cell_type": "code",
   "execution_count": 106,
   "metadata": {},
   "outputs": [
    {
     "data": {
      "text/html": [
       "<div>\n",
       "<style>\n",
       "    .dataframe thead tr:only-child th {\n",
       "        text-align: right;\n",
       "    }\n",
       "\n",
       "    .dataframe thead th {\n",
       "        text-align: left;\n",
       "    }\n",
       "\n",
       "    .dataframe tbody tr th {\n",
       "        vertical-align: top;\n",
       "    }\n",
       "</style>\n",
       "<table border=\"1\" class=\"dataframe\">\n",
       "  <thead>\n",
       "    <tr style=\"text-align: right;\">\n",
       "      <th></th>\n",
       "      <th>LAENGE</th>\n",
       "      <th>VAL</th>\n",
       "      <th>VARIABLE</th>\n",
       "      <th>MESSSTELLE</th>\n",
       "    </tr>\n",
       "  </thead>\n",
       "  <tbody>\n",
       "    <tr>\n",
       "      <th>11548</th>\n",
       "      <td>10.0</td>\n",
       "      <td>0.58638</td>\n",
       "      <td>DURCH_MITTEL</td>\n",
       "      <td>1</td>\n",
       "    </tr>\n",
       "    <tr>\n",
       "      <th>34444</th>\n",
       "      <td>10.0</td>\n",
       "      <td>0.68032</td>\n",
       "      <td>DURCH_MITTEL</td>\n",
       "      <td>2</td>\n",
       "    </tr>\n",
       "  </tbody>\n",
       "</table>\n",
       "</div>"
      ],
      "text/plain": [
       "       LAENGE      VAL      VARIABLE  MESSSTELLE\n",
       "11548    10.0  0.58638  DURCH_MITTEL           1\n",
       "34444    10.0  0.68032  DURCH_MITTEL           2"
      ]
     },
     "execution_count": 106,
     "metadata": {},
     "output_type": "execute_result"
    }
   ],
   "source": [
    "df2[(df2.VARIABLE=='DURCH_MITTEL') & (df2.LAENGE==10.0)]"
   ]
  },
  {
   "cell_type": "code",
   "execution_count": 104,
   "metadata": {},
   "outputs": [
    {
     "data": {
      "text/plain": [
       "LAENGE        float64\n",
       "VAL           float64\n",
       "VARIABLE       object\n",
       "MESSSTELLE       int8\n",
       "dtype: object"
      ]
     },
     "execution_count": 104,
     "metadata": {},
     "output_type": "execute_result"
    }
   ],
   "source": [
    "df2.dtypes"
   ]
  },
  {
   "cell_type": "code",
   "execution_count": 109,
   "metadata": {},
   "outputs": [
    {
     "data": {
      "text/plain": [
       "('DRAHT1_V', 'DRAHT1_V', 'DRAHT1_V', 'DRAHT1_V', 'DRAHT1_V')"
      ]
     },
     "execution_count": 109,
     "metadata": {},
     "output_type": "execute_result"
    }
   ],
   "source": [
    "tuple(df2.head().VARIABLE.values)"
   ]
  },
  {
   "cell_type": "code",
   "execution_count": null,
   "metadata": {
    "collapsed": true
   },
   "outputs": [],
   "source": []
  }
 ],
 "metadata": {
  "kernelspec": {
   "display_name": "Python 2",
   "language": "python",
   "name": "python2"
  },
  "language_info": {
   "codemirror_mode": {
    "name": "ipython",
    "version": 2
   },
   "file_extension": ".py",
   "mimetype": "text/x-python",
   "name": "python",
   "nbconvert_exporter": "python",
   "pygments_lexer": "ipython2",
   "version": "2.7.13"
  }
 },
 "nbformat": 4,
 "nbformat_minor": 2
}
